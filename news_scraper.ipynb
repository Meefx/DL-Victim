{
 "cells": [
  {
   "cell_type": "code",
   "execution_count": null,
   "id": "ca326b15",
   "metadata": {},
   "outputs": [
    {
     "name": "stdout",
     "output_type": "stream",
     "text": [
      "====================Bank Mandiri====================\n"
     ]
    }
   ],
   "source": [
    "import os\n",
    "import sys\n",
    "import pytz\n",
    "import requests\n",
    "import pandas as pd\n",
    "\n",
    "from datetime import datetime, timedelta\n",
    "\n",
    "\n",
    "tz = pytz.timezone(\"Asia/Jakarta\")\n",
    "scrap_date = (datetime.now(tz) - timedelta(days=30))\n",
    "save_folder = f\"data/kaltim_daily_news/{scrap_date.strftime('%Y-%m-%d')}\"\n",
    "\n",
    "\n",
    "queries = [\"Bank Mandiri\"]\n",
    "min_date = scrap_date.strftime(\"%m/%d/%Y\")\n",
    "max_date = scrap_date.strftime(\"%m/%d/%Y\")\n",
    "\n",
    "\n",
    "api_url = \"https://api.hasdata.com/scrape/google\"\n",
    "headers = {\"x-api-key\": \"3fbed308-0224-4f90-8bc3-86523ff1c464\"}\n",
    "\n",
    "\n",
    "for query in queries:\n",
    "    os.makedirs(save_folder, exist_ok=True)\n",
    "\n",
    "    params = {\"q\": query, \"tbm\": \"nws\", \"location\": \"Indonesia\", \"num\": 100, \"tbs\": f\"cdr:1,cd_min:{min_date},cd_max:{max_date}\"}\n",
    "\n",
    "    response = requests.get(api_url, params=params, headers=headers)\n",
    "    data = response.json()\n",
    "\n",
    "    news = data[\"newsResults\"]\n",
    "    df = pd.DataFrame(news)\n",
    "\n",
    "    print(f\"===================={query}====================\")\n",
    "\n",
    "    file_name = query.replace(\" \", \"_\").replace(\"’\", \"\")\n",
    "    df.to_csv(f\"{save_folder}/{file_name}.csv\", index=False)\n"
   ]
  },
  {
   "cell_type": "code",
   "execution_count": null,
   "id": "7d89554e",
   "metadata": {},
   "outputs": [],
   "source": []
  }
 ],
 "metadata": {
  "kernelspec": {
   "display_name": "Python 3",
   "language": "python",
   "name": "python3"
  },
  "language_info": {
   "codemirror_mode": {
    "name": "ipython",
    "version": 3
   },
   "file_extension": ".py",
   "mimetype": "text/x-python",
   "name": "python",
   "nbconvert_exporter": "python",
   "pygments_lexer": "ipython3",
   "version": "3.11.8"
  }
 },
 "nbformat": 4,
 "nbformat_minor": 5
}
