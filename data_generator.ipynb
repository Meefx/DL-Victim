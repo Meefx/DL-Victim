{
 "cells": [
  {
   "cell_type": "code",
   "execution_count": null,
   "id": "a8be7f46",
   "metadata": {},
   "outputs": [],
   "source": []
  },
  {
   "cell_type": "code",
   "execution_count": 3,
   "id": "53a9010a",
   "metadata": {},
   "outputs": [
    {
     "name": "stdout",
     "output_type": "stream",
     "text": [
      "Jumlah duplikasi teks: 0\n",
      "Jumlah unik teks: teks           2279\n",
      "target_bank       4\n",
      "dtype: int64\n"
     ]
    }
   ],
   "source": [
    "import pandas as pd\n",
    "\n",
    "df = pd.read_csv(\"temp/bank_sentiment_dataset_unique.csv\")\n",
    "df['teks'].duplicated().sum()  # Cek duplikasi\n",
    "print(f\"Jumlah duplikasi teks: {df[['teks','target_bank']].duplicated().sum()}\")\n",
    "print(f\"Jumlah unik teks: {df[['teks','target_bank']].nunique()}\")"
   ]
  },
  {
   "cell_type": "code",
   "execution_count": 5,
   "id": "5520873b",
   "metadata": {},
   "outputs": [],
   "source": [
    "# bagi data menjadi 3 bagian acak menggunakan train_test_split\n",
    "from sklearn.model_selection import train_test_split\n",
    "\n",
    "all_data = pd.read_csv(\"temp/bank_sentiment_dataset_unique.csv\")\n",
    "\n",
    "train, test = train_test_split(all_data, test_size=0.6, random_state=42, stratify=all_data['target_bank'])\n",
    "# Simpan data train dan test ke file CSV\n",
    "train_df = pd.DataFrame(train)\n",
    "\n",
    "val, test = train_test_split(test, test_size=0.5, random_state=42, stratify=test['target_bank'])\n",
    "val_df = pd.DataFrame(val)\n",
    "test_df = pd.DataFrame(test)\n",
    "\n",
    "train_df.to_csv('temp/bank_sentiment_train.csv', index=False, encoding='utf-8')\n",
    "val_df.to_csv('temp/bank_sentiment_val.csv', index=False, encoding='utf-8')\n",
    "test_df.to_csv('temp/bank_sentiment_test.csv', index=False, encoding='utf-8')"
   ]
  },
  {
   "cell_type": "code",
   "execution_count": null,
   "id": "1cbd875b",
   "metadata": {},
   "outputs": [],
   "source": []
  }
 ],
 "metadata": {
  "kernelspec": {
   "display_name": "Python 3",
   "language": "python",
   "name": "python3"
  },
  "language_info": {
   "codemirror_mode": {
    "name": "ipython",
    "version": 3
   },
   "file_extension": ".py",
   "mimetype": "text/x-python",
   "name": "python",
   "nbconvert_exporter": "python",
   "pygments_lexer": "ipython3",
   "version": "3.11.8"
  }
 },
 "nbformat": 4,
 "nbformat_minor": 5
}
